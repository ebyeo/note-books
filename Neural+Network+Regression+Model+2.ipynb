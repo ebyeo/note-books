{
 "cells": [
  {
   "cell_type": "markdown",
   "metadata": {},
   "source": [
    " Forecasting next week SG/D data\n",
    " * Transform original data and derive extra variables for forecasting."
   ]
  },
  {
   "cell_type": "code",
   "execution_count": 108,
   "metadata": {},
   "outputs": [
    {
     "name": "stdout",
     "output_type": "stream",
     "text": [
      "['DATE', 'DJI', 'DJV', 'S&P', 'FTSE', 'FTV', 'STI', 'STIV', 'SG/D', 'P/D', 'SGPRIME', 'UKPRIME', 'USPRIME', 'USINF', 'UKINF', 'SGINF', 'YEAR', 'MONTH', 'DAY']\n",
      "        DATE      DJI       DJV     S&P    FTSE       FTV     STI      STIV  \\\n",
      "0 1986-11-05  1899.04   68587.4  246.58  1644.4  574860.0  915.99  162617.0   \n",
      "1 1986-11-12  1893.70   86964.2  246.64  1654.3  571831.0  896.71  110285.0   \n",
      "2 1986-11-19  1826.63   95828.4  237.66  1604.3  463667.0  888.08  105946.0   \n",
      "3 1986-11-26  1916.76  113586.9  248.77  1633.2  500029.0  882.68   80790.0   \n",
      "4 1986-12-03  1947.27   72906.4  253.83  1615.1  486555.0  888.81   72660.0   \n",
      "\n",
      "     SG/D     P/D  SGPRIME  UKPRIME  USPRIME  USINF  UKINF  SGINF  YEAR  \\\n",
      "0  0.4558  1.4235      5.5     12.0      7.5   1.29   3.55  -1.38  1986   \n",
      "1  0.4569  1.4270      5.5     12.0      7.5   1.29   3.55  -1.38  1986   \n",
      "2  0.4572  1.4188      5.5     12.0      7.5   1.29   3.55  -1.38  1986   \n",
      "3  0.4570  1.4255      5.5     12.0      7.5   1.29   3.55  -1.38  1986   \n",
      "4  0.4570  1.4310      5.5     12.0      7.5   1.13   3.75  -1.38  1986   \n",
      "\n",
      "   MONTH  DAY  \n",
      "0     11    5  \n",
      "1     11   12  \n",
      "2     11   19  \n",
      "3     11   26  \n",
      "4     12    3  \n"
     ]
    }
   ],
   "source": [
    "import pandas as pd\n",
    "from datetime import datetime\n",
    "\n",
    "def parse(x):\n",
    "    return datetime.strptime(x, '%d-%b-%y')\n",
    "\n",
    "# Load data\n",
    "dataset = pd.read_csv('FinancialData.csv', parse_dates = ['Unnamed: 0'], date_parser=parse)\n",
    "# Rename first column to DATE\n",
    "dataset = dataset.rename(columns={'Unnamed: 0': 'DATE'})\n",
    "# Break down the date to individual columns\n",
    "dataset['YEAR'] = dataset['DATE'].dt.year\n",
    "dataset['MONTH'] = dataset['DATE'].dt.month\n",
    "dataset['DAY'] = dataset['DATE'].dt.day\n",
    "# Display column names\n",
    "print list(dataset)\n",
    "# Summarize first 5 rows\n",
    "print(dataset.head(5))\n",
    "# Save to file\n",
    "# dataset.to_csv('processed_financial_data.csv')"
   ]
  },
  {
   "cell_type": "markdown",
   "metadata": {},
   "source": [
    "* Plot the currency exchange data for visual analysis"
   ]
  },
  {
   "cell_type": "code",
   "execution_count": 109,
   "metadata": {},
   "outputs": [
    {
     "data": {
      "image/png": "[encoded data removed]",
      "text/plain": [
       "<matplotlib.figure.Figure at 0x106ba7fd0>"
      ]
     },
     "metadata": {},
     "output_type": "display_data"
    }
   ],
   "source": [
    "from matplotlib import pyplot\n",
    "values = dataset.values\n",
    "# specify columns to plot\n",
    "groups = [8,9]\n",
    "i = 1\n",
    "pyplot.figure()\n",
    "for group in groups:\n",
    "    pyplot.subplot(len(groups), 1, i)\n",
    "    pyplot.plot(values[:, group])\n",
    "    pyplot.title(dataset.columns[group], y=0.5, loc='right')\n",
    "    i += 1\n",
    "pyplot.show()"
   ]
  },
  {
   "cell_type": "markdown",
   "metadata": {},
   "source": [
    "* Shift the currency exchange data by 1 week for prediction of target currency rate in the future week"
   ]
  },
  {
   "cell_type": "code",
   "execution_count": 110,
   "metadata": {},
   "outputs": [],
   "source": [
    "dataset['next_week_SG/D'] = dataset['SG/D'].shift(-1)\n",
    "dataset['next_week_P/D'] = dataset['P/D'].shift(-1)\n",
    "# dataset.reset_index()"
   ]
  },
  {
   "cell_type": "markdown",
   "metadata": {},
   "source": [
    "* Output dataset statistics"
   ]
  },
  {
   "cell_type": "code",
   "execution_count": 111,
   "metadata": {},
   "outputs": [
    {
     "name": "stdout",
     "output_type": "stream",
     "text": [
      "                count          mean            std          min  \\\n",
      "DJI             606.0  3.870527e+03    1828.704100    1826.6300   \n",
      "DJV             606.0  1.336914e+05   62182.252990   36121.4000   \n",
      "S&P             606.0  4.752828e+02     210.575541     233.2800   \n",
      "FTSE            606.0  2.936601e+03    1013.503926    1590.3000   \n",
      "FTV             532.0  1.202328e+06  463723.001990  459913.0000   \n",
      "STI             599.0  1.636933e+03     461.331329     728.3000   \n",
      "STIV            505.0  5.858474e+05  545378.945184   45559.0000   \n",
      "SG/D            606.0  5.978703e-01       0.080217       0.4558   \n",
      "P/D             606.0  1.651239e+00       0.128119       1.4188   \n",
      "SGPRIME         606.0  5.788779e+00       0.663965       4.7500   \n",
      "UKPRIME         606.0  1.007838e+01       3.189964       6.2500   \n",
      "USPRIME         606.0  8.337046e+00       1.434414       6.0000   \n",
      "USINF           604.0  3.427599e+00       1.134551       1.1300   \n",
      "UKINF           604.0  4.415397e+00       2.379553       1.2200   \n",
      "SGINF           600.0  2.101067e+00       1.083395      -1.3800   \n",
      "YEAR            606.0  1.992147e+03       3.373188    1986.0000   \n",
      "MONTH           606.0  6.470297e+00       3.483364       1.0000   \n",
      "DAY             606.0  1.568317e+01       8.806944       1.0000   \n",
      "next_week_SG/D  605.0  5.981051e-01       0.080075       0.4560   \n",
      "next_week_P/D   605.0  1.651615e+00       0.127889       1.4188   \n",
      "\n",
      "                          25%           50%           75%           max  \n",
      "DJI               2586.887500  3.290510e+03  4.612565e+03  9.211840e+03  \n",
      "DJV              91111.125000  1.170209e+05  1.536059e+05  5.262259e+05  \n",
      "S&P                324.240000  4.176100e+02  5.556000e+02  1.130540e+03  \n",
      "FTSE              2199.050000  2.642200e+03  3.464325e+03  6.074100e+03  \n",
      "FTV             776778.000000  1.176098e+06  1.521635e+06  2.675318e+06  \n",
      "STI               1306.725000  1.528250e+03  2.103380e+03  2.491930e+03  \n",
      "STIV            217075.000000  4.217200e+05  7.414350e+05  3.243727e+06  \n",
      "SG/D                 0.515425  6.086500e-01  6.705250e-01  7.194000e-01  \n",
      "P/D                  1.552075  1.629050e+00  1.725000e+00  2.004000e+00  \n",
      "SGPRIME              5.500000  5.500000e+00  6.000000e+00  7.500000e+00  \n",
      "UKPRIME              7.000000  9.250000e+00  1.200000e+01  1.600000e+01  \n",
      "USPRIME              7.500000  8.500000e+00  9.000000e+00  1.150000e+01  \n",
      "USINF                2.690000  3.050000e+00  4.340000e+00  6.290000e+00  \n",
      "UKINF                2.670000  3.680000e+00  5.680000e+00  1.089000e+01  \n",
      "SGINF                1.427500  2.180000e+00  2.800000e+00  4.000000e+00  \n",
      "YEAR              1989.000000  1.992000e+03  1.995000e+03  1.998000e+03  \n",
      "MONTH                3.000000  6.000000e+00  1.000000e+01  1.200000e+01  \n",
      "DAY                  8.000000  1.600000e+01  2.300000e+01  3.100000e+01  \n",
      "next_week_SG/D       0.515500  6.088000e-01  6.718000e-01  7.194000e-01  \n",
      "next_week_P/D        1.552300  1.629100e+00  1.725000e+00  2.004000e+00  \n",
      "(606, 21)\n"
     ]
    }
   ],
   "source": [
    "print dataset.describe().transpose()\n",
    "print dataset.shape"
   ]
  },
  {
   "cell_type": "markdown",
   "metadata": {},
   "source": [
    "* Fill NaN values with 0"
   ]
  },
  {
   "cell_type": "code",
   "execution_count": 112,
   "metadata": {},
   "outputs": [
    {
     "name": "stdout",
     "output_type": "stream",
     "text": [
      "DATE                0\n",
      "DJI                 0\n",
      "DJV                 0\n",
      "S&P                 0\n",
      "FTSE                0\n",
      "FTV                74\n",
      "STI                 7\n",
      "STIV              101\n",
      "SG/D                0\n",
      "P/D                 0\n",
      "SGPRIME             0\n",
      "UKPRIME             0\n",
      "USPRIME             0\n",
      "USINF               2\n",
      "UKINF               2\n",
      "SGINF               6\n",
      "YEAR                0\n",
      "MONTH               0\n",
      "DAY                 0\n",
      "next_week_SG/D      1\n",
      "next_week_P/D       1\n",
      "dtype: int64\n"
     ]
    }
   ],
   "source": [
    "print dataset.isnull().sum()\n",
    "# dataset.fillna(0, inplace=True)\n",
    "# dataset = dataset.fillna(dataset.mean(), inplace=True)\n",
    "dataset.fillna(method='ffill', inplace=True)"
   ]
  },
  {
   "cell_type": "markdown",
   "metadata": {},
   "source": [
    "* Split the dataset into training and test sets to predict next week SG/D rate with a 1 week window\n",
    "* The period of prediction is over the trading period of 3rd April 1996 to 1st April 1998"
   ]
  },
  {
   "cell_type": "code",
   "execution_count": 113,
   "metadata": {},
   "outputs": [],
   "source": [
    "from sklearn.model_selection import train_test_split\n",
    "train_set = dataset[(dataset['YEAR'] <= 1996) & (dataset['MONTH'] < 4)].drop('DATE',axis=1)\n",
    "test_set = dataset[(dataset['YEAR'] >= 1996) & (dataset['MONTH'] > 4)].drop('DATE',axis=1)\n",
    "y_train = train_set['next_week_SG/D']\n",
    "X_train = train_set.drop('next_week_SG/D',axis=1)\n",
    "y_test = test_set['next_week_SG/D']\n",
    "X_test = test_set.drop('next_week_SG/D',axis=1)\n",
    "\n"
   ]
  },
  {
   "cell_type": "markdown",
   "metadata": {},
   "source": [
    "* StandardScale the data"
   ]
  },
  {
   "cell_type": "code",
   "execution_count": 114,
   "metadata": {},
   "outputs": [],
   "source": [
    "from sklearn.preprocessing import StandardScaler\n",
    "\n",
    "scaler = StandardScaler()\n",
    "# Fit only to the training data\n",
    "scaler.fit(X_train)\n",
    "StandardScaler(copy=True, with_mean=True, with_std=True)\n",
    "# Now apply the transformations to the data\n",
    "X_train = scaler.transform(X_train)\n",
    "X_test = scaler.transform(X_test)"
   ]
  },
  {
   "cell_type": "markdown",
   "metadata": {},
   "source": [
    "* Build a Neural Network model using taining data and test the model prediction"
   ]
  },
  {
   "cell_type": "code",
   "execution_count": 115,
   "metadata": {},
   "outputs": [
    {
     "name": "stdout",
     "output_type": "stream",
     "text": [
      "MEAN SQAURE ERROR :  0.0425864139462\n"
     ]
    }
   ],
   "source": [
    "from sklearn.neural_network import MLPRegressor\n",
    "from sklearn.metrics import mean_squared_error\n",
    "\n",
    "mlp = MLPRegressor(hidden_layer_sizes=(13,13,13),max_iter=5000)\n",
    "mlp.fit(X_train,y_train)\n",
    "predictions = mlp.predict(X_test)\n",
    "print \"MEAN SQAURE ERROR : \", mean_squared_error(y_test, predictions)"
   ]
  },
  {
   "cell_type": "markdown",
   "metadata": {},
   "source": [
    "* Export predictions for future week SG/D to csv"
   ]
  },
  {
   "cell_type": "code",
   "execution_count": 116,
   "metadata": {},
   "outputs": [
    {
     "name": "stdout",
     "output_type": "stream",
     "text": [
      "         DJI       DJV     S&P    FTSE        FTV      STI      STIV    SG/D  \\\n",
      "495  5575.22  163957.1  654.58  3806.0  1661802.0  2415.66  674687.0  0.7110   \n",
      "496  5474.06  197585.6  644.77  3707.3  1661802.0  2371.83  599867.0  0.7116   \n",
      "497  5625.44  177015.3  665.42  3776.2  1709172.0  2321.50  555917.0  0.7100   \n",
      "498  5778.00  199696.8  678.42  3764.2  1871524.0  2313.02  481110.0  0.7096   \n",
      "499  5673.83  134018.0  667.93  3775.7  1871524.0  2334.42  609086.0  0.7082   \n",
      "500  5697.48  145799.1  678.44  3753.4  1871524.0  2326.81  609086.0  0.7095   \n",
      "501  5668.29  162635.2  669.04  3769.2  1508992.0  2289.24  376715.0  0.7096   \n",
      "502  5648.35  136945.1  661.96  3753.2  1841379.0  2291.93  328615.0  0.7106   \n",
      "503  5682.70  198143.2  664.39  3695.5  1647262.0  2284.96  319165.0  0.7086   \n",
      "504  5703.02  154308.4  672.40  3714.1  1549219.0  2271.56  469753.0  0.7076   \n",
      "\n",
      "        P/D  SGPRIME       ...        USPRIME  USINF  UKINF  SGINF  YEAR  \\\n",
      "495  1.4925      6.0       ...           8.25   2.89   2.21   1.23  1996   \n",
      "496  1.5243      6.0       ...           8.25   2.89   2.21   1.23  1996   \n",
      "497  1.5137      6.0       ...           8.25   2.89   2.21   1.23  1996   \n",
      "498  1.5090      6.0       ...           8.25   2.89   2.21   1.23  1996   \n",
      "499  1.5307      6.0       ...           8.25   2.89   2.21   1.23  1996   \n",
      "500  1.5485      6.0       ...           8.25   2.75   2.14   1.13  1996   \n",
      "501  1.5344      6.0       ...           8.25   2.75   2.14   1.13  1996   \n",
      "502  1.5443      6.0       ...           8.25   2.75   2.14   1.13  1996   \n",
      "503  1.5406      6.0       ...           8.25   2.75   2.14   1.13  1996   \n",
      "504  1.5630      6.0       ...           8.25   2.95   2.21   1.33  1996   \n",
      "\n",
      "     MONTH  DAY  next_week_SG/D  next_week_P/D  predicted_SG/D  \n",
      "495      5    1          0.7116         1.5243        0.789889  \n",
      "496      5    8          0.7100         1.5137        0.673678  \n",
      "497      5   15          0.7096         1.5090        0.695300  \n",
      "498      5   22          0.7082         1.5307        0.648211  \n",
      "499      5   29          0.7095         1.5485        0.719346  \n",
      "500      6    5          0.7096         1.5344        0.824520  \n",
      "501      6   12          0.7106         1.5443        0.692766  \n",
      "502      6   19          0.7086         1.5406        0.748842  \n",
      "503      6   26          0.7076         1.5630        0.587216  \n",
      "504      7    3          0.7074         1.5525        0.725874  \n",
      "\n",
      "[10 rows x 21 columns]\n"
     ]
    }
   ],
   "source": [
    "test_set['predicted_SG/D'] = predictions\n",
    "print test_set.head(10)\n",
    "test_set.to_csv('predictions.csv')"
   ]
  },
  {
   "cell_type": "code",
   "execution_count": null,
   "metadata": {},
   "outputs": [],
   "source": []
  }
 ],
 "metadata": {
  "kernelspec": {
   "display_name": "Python 2",
   "language": "python",
   "name": "python2"
  },
  "language_info": {
   "codemirror_mode": {
    "name": "ipython",
    "version": 2
   },
   "file_extension": ".py",
   "mimetype": "text/x-python",
   "name": "python",
   "nbconvert_exporter": "python",
   "pygments_lexer": "ipython2",
   "version": "2.7.10"
  }
 },
 "nbformat": 4,
 "nbformat_minor": 2
}
